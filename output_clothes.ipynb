{
 "cells": [
  {
   "cell_type": "code",
   "execution_count": 1,
   "id": "ec84a46f",
   "metadata": {
    "execution": {
     "iopub.execute_input": "2024-11-29T00:49:03.278247Z",
     "iopub.status.busy": "2024-11-29T00:49:03.277850Z",
     "iopub.status.idle": "2024-11-29T00:49:03.283365Z",
     "shell.execute_reply": "2024-11-29T00:49:03.282884Z"
    },
    "papermill": {
     "duration": 0.011466,
     "end_time": "2024-11-29T00:49:03.284735",
     "exception": false,
     "start_time": "2024-11-29T00:49:03.273269",
     "status": "completed"
    },
    "tags": [
     "parameters"
    ]
   },
   "outputs": [],
   "source": [
    "# Recebendo os parâmetros (serão injetados pelo papermill)\n",
    "peso = None\n",
    "idade = None\n",
    "altura = None"
   ]
  },
  {
   "cell_type": "code",
   "execution_count": 2,
   "id": "5f42522b",
   "metadata": {
    "execution": {
     "iopub.execute_input": "2024-11-29T00:49:03.289958Z",
     "iopub.status.busy": "2024-11-29T00:49:03.289746Z",
     "iopub.status.idle": "2024-11-29T00:49:03.292268Z",
     "shell.execute_reply": "2024-11-29T00:49:03.291873Z"
    },
    "papermill": {
     "duration": 0.00619,
     "end_time": "2024-11-29T00:49:03.293455",
     "exception": false,
     "start_time": "2024-11-29T00:49:03.287265",
     "status": "completed"
    },
    "tags": [
     "injected-parameters"
    ]
   },
   "outputs": [],
   "source": [
    "# Parameters\n",
    "peso = 81.0\n",
    "idade = 21\n",
    "altura = 1.88\n"
   ]
  },
  {
   "cell_type": "code",
   "execution_count": 3,
   "id": "7ecd516d",
   "metadata": {
    "execution": {
     "iopub.execute_input": "2024-11-29T00:49:03.297421Z",
     "iopub.status.busy": "2024-11-29T00:49:03.297112Z",
     "iopub.status.idle": "2024-11-29T00:49:04.404184Z",
     "shell.execute_reply": "2024-11-29T00:49:04.403936Z"
    },
    "id": "AFF5WETapQg8",
    "papermill": {
     "duration": 1.109711,
     "end_time": "2024-11-29T00:49:04.405110",
     "exception": false,
     "start_time": "2024-11-29T00:49:03.295399",
     "status": "completed"
    },
    "tags": []
   },
   "outputs": [],
   "source": [
    "import pandas as pd\n",
    "import seaborn as sns\n",
    "import matplotlib.pyplot as plt\n",
    "from sklearn.model_selection import train_test_split\n",
    "from sklearn.ensemble import RandomForestClassifier\n",
    "from sklearn.metrics import accuracy_score, classification_report"
   ]
  },
  {
   "cell_type": "code",
   "execution_count": 4,
   "id": "4e7c1d91",
   "metadata": {
    "execution": {
     "iopub.execute_input": "2024-11-29T00:49:04.407326Z",
     "iopub.status.busy": "2024-11-29T00:49:04.407166Z",
     "iopub.status.idle": "2024-11-29T00:49:04.431012Z",
     "shell.execute_reply": "2024-11-29T00:49:04.430735Z"
    },
    "id": "0Q8JIZ3GpHQc",
    "papermill": {
     "duration": 0.025666,
     "end_time": "2024-11-29T00:49:04.431793",
     "exception": false,
     "start_time": "2024-11-29T00:49:04.406127",
     "status": "completed"
    },
    "tags": []
   },
   "outputs": [],
   "source": [
    "dataset_name = './clothes_prediction.csv'\n",
    "\n",
    "df = pd.read_csv(dataset_name)"
   ]
  },
  {
   "cell_type": "code",
   "execution_count": 5,
   "id": "1d021d92",
   "metadata": {
    "execution": {
     "iopub.execute_input": "2024-11-29T00:49:04.433863Z",
     "iopub.status.busy": "2024-11-29T00:49:04.433768Z",
     "iopub.status.idle": "2024-11-29T00:49:07.591954Z",
     "shell.execute_reply": "2024-11-29T00:49:07.591664Z"
    },
    "id": "V_cEupdIrjGM",
    "papermill": {
     "duration": 3.159984,
     "end_time": "2024-11-29T00:49:07.592724",
     "exception": false,
     "start_time": "2024-11-29T00:49:04.432740",
     "status": "completed"
    },
    "tags": []
   },
   "outputs": [
    {
     "name": "stdout",
     "output_type": "stream",
     "text": [
      "Accuracy: 0.51\n"
     ]
    }
   ],
   "source": [
    "from sklearn.ensemble import RandomForestClassifier\n",
    "from sklearn.model_selection import train_test_split\n",
    "from sklearn.metrics import accuracy_score\n",
    "import pandas as pd\n",
    "\n",
    "# Separar features e target\n",
    "X = df[[\"age\", \"height\", \"weight\"]]\n",
    "y = df[\"size\"]\n",
    "\n",
    "# Dividir o dataset em treino e teste\n",
    "X_train, X_test, y_train, y_test = train_test_split(X, y, test_size=0.2, random_state=42)\n",
    "\n",
    "# Treinar o modelo\n",
    "modelo = RandomForestClassifier(random_state=42)\n",
    "modelo.fit(X_train, y_train)\n",
    "\n",
    "# Avaliar o modelo\n",
    "y_pred = modelo.predict(X_test)\n",
    "print(f\"Accuracy: {accuracy_score(y_test, y_pred):.2f}\")"
   ]
  },
  {
   "cell_type": "code",
   "execution_count": 6,
   "id": "0401b5de",
   "metadata": {
    "execution": {
     "iopub.execute_input": "2024-11-29T00:49:07.595439Z",
     "iopub.status.busy": "2024-11-29T00:49:07.595271Z",
     "iopub.status.idle": "2024-11-29T00:49:07.599750Z",
     "shell.execute_reply": "2024-11-29T00:49:07.599551Z"
    },
    "papermill": {
     "duration": 0.006455,
     "end_time": "2024-11-29T00:49:07.600383",
     "exception": false,
     "start_time": "2024-11-29T00:49:07.593928",
     "status": "completed"
    },
    "tags": []
   },
   "outputs": [
    {
     "name": "stdout",
     "output_type": "stream",
     "text": [
      "Tamanho de roupa previsto: XXXL\n"
     ]
    }
   ],
   "source": [
    "# Criar entrada para predição\n",
    "entrada = pd.DataFrame([[idade, altura, peso]], columns=[\"age\", \"height\", \"weight\"])\n",
    "\n",
    "# Realizar a predição\n",
    "tamanho_predito = modelo.predict(entrada)\n",
    "\n",
    "# Mostrar o resultado\n",
    "print(f\"Tamanho de roupa previsto: {tamanho_predito[0]}\")"
   ]
  },
  {
   "cell_type": "code",
   "execution_count": 7,
   "id": "831f1a00",
   "metadata": {
    "execution": {
     "iopub.execute_input": "2024-11-29T00:49:07.602616Z",
     "iopub.status.busy": "2024-11-29T00:49:07.602504Z",
     "iopub.status.idle": "2024-11-29T00:49:07.604569Z",
     "shell.execute_reply": "2024-11-29T00:49:07.604325Z"
    },
    "papermill": {
     "duration": 0.003832,
     "end_time": "2024-11-29T00:49:07.605154",
     "exception": false,
     "start_time": "2024-11-29T00:49:07.601322",
     "status": "completed"
    },
    "tags": []
   },
   "outputs": [],
   "source": [
    "# Salvar resultado em um arquivo\n",
    "with open(\"resultado_tamanho_roupa.txt\", \"w\") as f:\n",
    "    f.write(f\"Tamanho de roupa previsto: {tamanho_predito[0]}\\n\")\n",
    "    f.write(f\"Peso: {peso}, Idade: {idade}, Altura: {altura}\\n\")"
   ]
  }
 ],
 "metadata": {
  "colab": {
   "provenance": []
  },
  "kernelspec": {
   "display_name": ".venv",
   "language": "python",
   "name": "python3"
  },
  "language_info": {
   "codemirror_mode": {
    "name": "ipython",
    "version": 3
   },
   "file_extension": ".py",
   "mimetype": "text/x-python",
   "name": "python",
   "nbconvert_exporter": "python",
   "pygments_lexer": "ipython3",
   "version": "3.12.3"
  },
  "papermill": {
   "default_parameters": {},
   "duration": 5.460422,
   "end_time": "2024-11-29T00:49:07.921912",
   "environment_variables": {},
   "exception": null,
   "input_path": "clothes.ipynb",
   "output_path": "output_clothes.ipynb",
   "parameters": {
    "altura": 1.88,
    "idade": 21,
    "peso": 81.0
   },
   "start_time": "2024-11-29T00:49:02.461490",
   "version": "2.6.0"
  }
 },
 "nbformat": 4,
 "nbformat_minor": 5
}