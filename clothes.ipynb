{
  "cells": [
    {
      "cell_type": "code",
      "execution_count": null,
      "metadata": {
        "tags": [
          "parameters"
        ]
      },
      "outputs": [],
      "source": [
        "# Recebendo os parâmetros (serão injetados pelo papermill)\n",
        "peso = None\n",
        "idade = None\n",
        "altura = None"
      ]
    },
    {
      "cell_type": "code",
      "execution_count": 1,
      "metadata": {
        "id": "AFF5WETapQg8"
      },
      "outputs": [],
      "source": [
        "import pandas as pd\n",
        "import seaborn as sns\n",
        "import matplotlib.pyplot as plt\n",
        "from sklearn.model_selection import train_test_split\n",
        "from sklearn.ensemble import RandomForestClassifier\n",
        "from sklearn.metrics import accuracy_score, classification_report"
      ]
    },
    {
      "cell_type": "code",
      "execution_count": null,
      "metadata": {
        "id": "0Q8JIZ3GpHQc"
      },
      "outputs": [],
      "source": [
        "dataset_name = './clothes_prediction.csv'\n",
        "\n",
        "df = pd.read_csv(dataset_name)"
      ]
    },
    {
      "cell_type": "code",
      "execution_count": null,
      "metadata": {
        "id": "V_cEupdIrjGM"
      },
      "outputs": [],
      "source": [
        "from sklearn.ensemble import RandomForestClassifier\n",
        "from sklearn.model_selection import train_test_split\n",
        "from sklearn.metrics import accuracy_score\n",
        "import pandas as pd\n",
        "\n",
        "# Separar features e target\n",
        "X = df[[\"age\", \"height\", \"weight\"]]\n",
        "y = df[\"size\"]\n",
        "\n",
        "# Dividir o dataset em treino e teste\n",
        "X_train, X_test, y_train, y_test = train_test_split(X, y, test_size=0.2, random_state=42)\n",
        "\n",
        "# Treinar o modelo\n",
        "modelo = RandomForestClassifier(random_state=42)\n",
        "modelo.fit(X_train, y_train)\n",
        "\n",
        "# Avaliar o modelo\n",
        "y_pred = modelo.predict(X_test)\n",
        "print(f\"Accuracy: {accuracy_score(y_test, y_pred):.2f}\")"
      ]
    },
    {
      "cell_type": "code",
      "execution_count": null,
      "metadata": {},
      "outputs": [],
      "source": [
        "# Criar entrada para predição\n",
        "entrada = pd.DataFrame([[idade, altura, peso]], columns=[\"age\", \"height\", \"weight\"])\n",
        "\n",
        "# Realizar a predição\n",
        "tamanho_predito = modelo.predict(entrada)\n",
        "\n",
        "# Mostrar o resultado\n",
        "print(f\"Tamanho de roupa previsto: {tamanho_predito[0]}\")"
      ]
    },
    {
      "cell_type": "code",
      "execution_count": null,
      "metadata": {},
      "outputs": [],
      "source": [
        "# Salvar resultado em um arquivo\n",
        "with open(\"resultado_tamanho_roupa.txt\", \"w\") as f:\n",
        "    f.write(f\"Tamanho de roupa previsto: {tamanho_predito[0]}\\n\")\n",
        "    f.write(f\"Peso: {peso}, Idade: {idade}, Altura: {altura}\\n\")"
      ]
    }
  ],
  "metadata": {
    "colab": {
      "provenance": []
    },
    "kernelspec": {
      "display_name": ".venv",
      "language": "python",
      "name": "python3"
    },
    "language_info": {
      "codemirror_mode": {
        "name": "ipython",
        "version": 3
      },
      "file_extension": ".py",
      "mimetype": "text/x-python",
      "name": "python",
      "nbconvert_exporter": "python",
      "pygments_lexer": "ipython3",
      "version": "3.12.3"
    }
  },
  "nbformat": 4,
  "nbformat_minor": 0
}
